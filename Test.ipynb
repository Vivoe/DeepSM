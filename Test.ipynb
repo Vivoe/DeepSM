{
 "cells": [
  {
   "cell_type": "code",
   "execution_count": 1,
   "metadata": {
    "ExecuteTime": {
     "end_time": "2019-02-18T01:24:31.390909Z",
     "start_time": "2019-02-18T01:24:30.833725Z"
    },
    "collapsed": true
   },
   "outputs": [],
   "source": [
    "import torch"
   ]
  },
  {
   "cell_type": "code",
   "execution_count": 8,
   "metadata": {
    "ExecuteTime": {
     "end_time": "2019-02-18T01:44:20.264113Z",
     "start_time": "2019-02-18T01:44:20.224308Z"
    }
   },
   "outputs": [
    {
     "name": "stdout",
     "output_type": "stream",
     "text": [
      "INPUTS\n",
      "tensor([[[-0.5525,  0.6355, -0.3968]],\n",
      "\n",
      "        [[-0.6571, -1.6428,  0.9803]],\n",
      "\n",
      "        [[-0.0421, -0.8206,  0.3133]],\n",
      "\n",
      "        [[-1.1352,  0.3773, -0.2824]],\n",
      "\n",
      "        [[-2.5667, -1.4303,  0.5009]]])\n",
      "HIDDEN\n",
      "(tensor([[[-0.1473,  0.6272,  1.0935]]]), tensor([[[ 0.0939,  1.2381, -1.3459]]]))\n",
      "tensor([[[-0.0187,  0.1713, -0.2944]],\n",
      "\n",
      "        [[-0.3521,  0.1026, -0.2971]],\n",
      "\n",
      "        [[-0.3191,  0.0781, -0.1957]],\n",
      "\n",
      "        [[-0.1634,  0.0941, -0.1637]],\n",
      "\n",
      "        [[-0.3368,  0.0959, -0.0538]]], grad_fn=<StackBackward>)\n",
      "(tensor([[[-0.3368,  0.0959, -0.0538]]], grad_fn=<StackBackward>), tensor([[[-0.9825,  0.4715, -0.0633]]], grad_fn=<StackBackward>))\n"
     ]
    }
   ],
   "source": [
    "import torch\n",
    "import torch.nn as nn\n",
    "import torch.nn.functional as F\n",
    "import torch.optim as optim\n",
    "\n",
    "torch.manual_seed(1)\n",
    "\n",
    "lstm = nn.LSTM(3, 3)  # Input dim is 3, output dim is 3\n",
    "inputs = [torch.randn(1, 3) for _ in range(5)]  # make a sequence of length 5\n",
    "\n",
    "# initialize the hidden state.\n",
    "hidden = (torch.randn(1, 1, 3),\n",
    "          torch.randn(1, 1, 3))\n",
    "for i in inputs:\n",
    "    # Step through the sequence one element at a time.\n",
    "    # after each step, hidden contains the hidden state.\n",
    "    out, hidden = lstm(i.view(1, 1, -1), hidden)\n",
    "\n",
    "# alternatively, we can do the entire sequence all at once.\n",
    "# the first value returned by LSTM is all of the hidden states throughout\n",
    "# the sequence. the second is just the most recent hidden state\n",
    "# (compare the last slice of \"out\" with \"hidden\" below, they are the same)\n",
    "# The reason for this is that:\n",
    "# \"out\" will give you access to all hidden states in the sequence\n",
    "# \"hidden\" will allow you to continue the sequence and backpropagate,\n",
    "# by passing it as an argument  to the lstm at a later time\n",
    "# Add the extra 2nd dimension\n",
    "inputs = torch.cat(inputs).view(len(inputs), 1, -1)\n",
    "print(\"INPUTS\")\n",
    "print(inputs)\n",
    "print(\"HIDDEN\")\n",
    "\n",
    "hidden = (torch.randn(1, 1, 3), torch.randn(1, 1, 3))  # clean out hidden state\n",
    "print(hidden)\n",
    "out, hidden = lstm(inputs, hidden)\n",
    "print(out)\n",
    "print(hidden)\n",
    "\n"
   ]
  },
  {
   "cell_type": "code",
   "execution_count": 10,
   "metadata": {
    "ExecuteTime": {
     "end_time": "2019-02-18T02:12:37.052354Z",
     "start_time": "2019-02-18T02:12:11.251613Z"
    }
   },
   "outputs": [
    {
     "name": "stdout",
     "output_type": "stream",
     "text": [
      "Downloading https://www.cs.toronto.edu/~kriz/cifar-10-python.tar.gz to ./data/cifar-10-python.tar.gz\n"
     ]
    }
   ],
   "source": [
    "import torchvision\n",
    "trainset = torchvision.datasets.CIFAR10(root='./data', train=True,\n",
    "                                        download=True)"
   ]
  },
  {
   "cell_type": "code",
   "execution_count": 19,
   "metadata": {
    "ExecuteTime": {
     "end_time": "2019-02-18T04:12:44.592317Z",
     "start_time": "2019-02-18T04:12:44.588108Z"
    },
    "collapsed": true
   },
   "outputs": [],
   "source": [
    "import numpy as np"
   ]
  },
  {
   "cell_type": "code",
   "execution_count": 29,
   "metadata": {
    "ExecuteTime": {
     "end_time": "2019-02-18T04:15:49.969539Z",
     "start_time": "2019-02-18T04:15:49.963221Z"
    }
   },
   "outputs": [],
   "source": [
    "layer = torch.nn.Conv2d(4, 1, 2)\n",
    "# Batch size 2\n",
    "# Seq length 3\n",
    "# 4 Channels\n",
    "# 5 height\n",
    "# 6 width\n",
    "x = torch.from_numpy(np.random.normal(size=(2*3, 4, 5, 6))).float()\n",
    "out = layer(x)"
   ]
  },
  {
   "cell_type": "code",
   "execution_count": 32,
   "metadata": {
    "ExecuteTime": {
     "end_time": "2019-02-18T04:16:17.680958Z",
     "start_time": "2019-02-18T04:16:17.671765Z"
    }
   },
   "outputs": [
    {
     "data": {
      "text/plain": [
       "tensor([[[[ 5.1058e-04, -2.3594e-01, -5.8116e-02,  2.7001e-01,  8.2860e-01],\n",
       "          [ 5.1732e-01, -6.1680e-01,  2.1360e-01, -7.6042e-01,  3.4260e-01],\n",
       "          [-1.1828e+00,  6.1272e-01,  3.5242e-01,  3.8238e-01, -4.6206e-01],\n",
       "          [ 4.7128e-01,  7.0977e-01,  4.4977e-01,  4.1700e-01,  8.4453e-01]]],\n",
       "\n",
       "\n",
       "        [[[ 3.6647e-01,  5.1613e-01, -3.4666e-01, -8.6457e-01, -2.6813e-01],\n",
       "          [ 1.0473e-01, -8.2274e-01, -2.6844e-01,  7.8981e-02, -4.1192e-01],\n",
       "          [ 2.0487e-01,  9.6450e-01,  7.3805e-01,  2.8039e-01,  3.6105e-01],\n",
       "          [ 1.1070e+00,  2.7984e-01,  3.0767e-01,  3.3617e-01, -5.1529e-01]]],\n",
       "\n",
       "\n",
       "        [[[ 7.7514e-02, -1.9306e+00,  4.6787e-01, -6.3310e-01,  5.1092e-01],\n",
       "          [-7.6354e-01,  5.9519e-01, -2.5103e-01,  5.5054e-01,  2.7288e-01],\n",
       "          [ 1.1154e+00, -2.5229e-01,  7.0632e-01,  1.7200e-01, -1.0726e+00],\n",
       "          [-2.3262e-01, -3.6756e-01,  1.9198e-01,  2.6146e-01,  7.3554e-01]]],\n",
       "\n",
       "\n",
       "        [[[-6.3201e-01, -9.9529e-01,  1.4687e-01, -4.3467e-01, -2.6794e-01],\n",
       "          [ 1.6285e-01, -4.1287e-01, -6.6266e-01, -5.4026e-01,  5.3623e-01],\n",
       "          [-6.1868e-01,  5.8795e-01, -2.2815e-01, -2.0709e-02,  5.6998e-01],\n",
       "          [ 3.2605e-01, -7.4010e-02,  3.7695e-01, -1.0782e+00,  6.0772e-01]]],\n",
       "\n",
       "\n",
       "        [[[ 4.2868e-01,  1.2051e-01,  7.7823e-01,  5.4063e-01,  8.8956e-02],\n",
       "          [-5.3098e-01,  5.4824e-01,  8.2375e-01, -5.6850e-01,  9.3595e-01],\n",
       "          [ 8.3668e-01,  6.3393e-01,  5.0160e-01, -5.6214e-01,  1.8730e-01],\n",
       "          [ 1.5640e-01,  7.1784e-01,  5.1802e-01,  4.9084e-01, -4.5105e-02]]],\n",
       "\n",
       "\n",
       "        [[[ 3.8674e-01, -5.4171e-01, -5.0182e-02,  5.4894e-02,  7.7002e-01],\n",
       "          [ 3.7703e-01,  2.6497e-01, -5.1714e-01,  3.5222e-01,  4.2470e-01],\n",
       "          [-7.2010e-01, -2.7513e-03,  7.5133e-01,  3.1452e-01,  1.4291e+00],\n",
       "          [-6.7045e-01,  1.2456e+00, -5.9485e-01, -1.4621e-01, -8.1790e-02]]]],\n",
       "       grad_fn=<MkldnnConvolutionBackward>)"
      ]
     },
     "execution_count": 32,
     "metadata": {},
     "output_type": "execute_result"
    }
   ],
   "source": [
    "out"
   ]
  },
  {
   "cell_type": "code",
   "execution_count": 34,
   "metadata": {
    "ExecuteTime": {
     "end_time": "2019-02-18T04:16:37.827782Z",
     "start_time": "2019-02-18T04:16:37.820225Z"
    }
   },
   "outputs": [
    {
     "data": {
      "text/plain": [
       "tensor([[[[-0.6320, -0.9953,  0.1469, -0.4347, -0.2679],\n",
       "          [ 0.1628, -0.4129, -0.6627, -0.5403,  0.5362],\n",
       "          [-0.6187,  0.5879, -0.2282, -0.0207,  0.5700],\n",
       "          [ 0.3260, -0.0740,  0.3769, -1.0782,  0.6077]]],\n",
       "\n",
       "\n",
       "        [[[ 0.4287,  0.1205,  0.7782,  0.5406,  0.0890],\n",
       "          [-0.5310,  0.5482,  0.8237, -0.5685,  0.9360],\n",
       "          [ 0.8367,  0.6339,  0.5016, -0.5621,  0.1873],\n",
       "          [ 0.1564,  0.7178,  0.5180,  0.4908, -0.0451]]],\n",
       "\n",
       "\n",
       "        [[[ 0.3867, -0.5417, -0.0502,  0.0549,  0.7700],\n",
       "          [ 0.3770,  0.2650, -0.5171,  0.3522,  0.4247],\n",
       "          [-0.7201, -0.0028,  0.7513,  0.3145,  1.4291],\n",
       "          [-0.6704,  1.2456, -0.5949, -0.1462, -0.0818]]]],\n",
       "       grad_fn=<SelectBackward>)"
      ]
     },
     "execution_count": 34,
     "metadata": {},
     "output_type": "execute_result"
    }
   ],
   "source": [
    "out.reshape((2, 3, 1, 4, 5))[1]"
   ]
  },
  {
   "cell_type": "code",
   "execution_count": 2,
   "metadata": {
    "ExecuteTime": {
     "end_time": "2019-02-18T16:29:27.376963Z",
     "start_time": "2019-02-18T16:29:27.073243Z"
    }
   },
   "outputs": [],
   "source": [
    "import os\n",
    "import numpy as np\n",
    "import re\n",
    "import deepSM.smutils as SM\n",
    "from importlib import reload\n",
    "import pandas as pd\n",
    "import matplotlib.pyplot as plt\n",
    "from scipy.io import wavfile\n",
    "%matplotlib inline"
   ]
  },
  {
   "cell_type": "code",
   "execution_count": 4,
   "metadata": {
    "ExecuteTime": {
     "end_time": "2019-02-18T16:29:56.620202Z",
     "start_time": "2019-02-18T16:29:56.611275Z"
    }
   },
   "outputs": [
    {
     "data": {
      "text/plain": [
       "<module 'deepSM.smutils' from '/home/lence/dev/deepStep/deepSM/smutils.py'>"
      ]
     },
     "execution_count": 4,
     "metadata": {},
     "output_type": "execute_result"
    }
   ],
   "source": [
    "reload(SM)"
   ]
  },
  {
   "cell_type": "code",
   "execution_count": 5,
   "metadata": {
    "ExecuteTime": {
     "end_time": "2019-02-18T16:29:57.211521Z",
     "start_time": "2019-02-18T16:29:57.208131Z"
    }
   },
   "outputs": [
    {
     "data": {
      "text/plain": [
       "<module 'deepSM.wavutils' from '/home/lence/dev/deepStep/deepSM/wavutils.py'>"
      ]
     },
     "execution_count": 5,
     "metadata": {},
     "output_type": "execute_result"
    }
   ],
   "source": [
    "SM.wavutils"
   ]
  },
  {
   "cell_type": "code",
   "execution_count": 100,
   "metadata": {
    "ExecuteTime": {
     "end_time": "2019-02-18T05:41:43.251993Z",
     "start_time": "2019-02-18T05:41:43.247932Z"
    },
    "collapsed": true
   },
   "outputs": [],
   "source": [
    "song_names = os.listdir('data')"
   ]
  },
  {
   "cell_type": "code",
   "execution_count": 169,
   "metadata": {
    "ExecuteTime": {
     "end_time": "2019-02-18T06:14:36.679782Z",
     "start_time": "2019-02-18T06:14:36.108516Z"
    }
   },
   "outputs": [],
   "source": [
    "reload(SM)\n",
    "sms = []\n",
    "for song_name in song_names:\n",
    "    sms.append(SM.SMFile(song_name))"
   ]
  },
  {
   "cell_type": "code",
   "execution_count": 170,
   "metadata": {
    "ExecuteTime": {
     "end_time": "2019-02-18T06:14:36.683655Z",
     "start_time": "2019-02-18T06:14:36.680819Z"
    }
   },
   "outputs": [
    {
     "data": {
      "text/plain": [
       "'Alteration'"
      ]
     },
     "execution_count": 170,
     "metadata": {},
     "output_type": "execute_result"
    }
   ],
   "source": [
    "sm = sms[-6]\n",
    "sm.title"
   ]
  },
  {
   "cell_type": "code",
   "execution_count": 523,
   "metadata": {
    "ExecuteTime": {
     "end_time": "2019-02-18T23:31:09.549292Z",
     "start_time": "2019-02-18T23:31:09.545694Z"
    },
    "collapsed": true
   },
   "outputs": [],
   "source": [
    "x = np.arange(5)"
   ]
  },
  {
   "cell_type": "code",
   "execution_count": 525,
   "metadata": {
    "ExecuteTime": {
     "end_time": "2019-02-18T23:31:56.526560Z",
     "start_time": "2019-02-18T23:31:56.523726Z"
    }
   },
   "outputs": [
    {
     "data": {
      "text/plain": [
       "22050.0"
      ]
     },
     "execution_count": 525,
     "metadata": {},
     "output_type": "execute_result"
    }
   ],
   "source": [
    "44100/2"
   ]
  },
  {
   "cell_type": "code",
   "execution_count": 524,
   "metadata": {
    "ExecuteTime": {
     "end_time": "2019-02-18T23:31:21.465380Z",
     "start_time": "2019-02-18T23:31:21.447642Z"
    }
   },
   "outputs": [
    {
     "ename": "ValueError",
     "evalue": "operands could not be broadcast together with shapes (2,) (7,) (2,) ",
     "output_type": "error",
     "traceback": [
      "\u001b[0;31m---------------------------------------------------------------------------\u001b[0m",
      "\u001b[0;31mValueError\u001b[0m                                Traceback (most recent call last)",
      "\u001b[0;32m<ipython-input-524-193af1123686>\u001b[0m in \u001b[0;36m<module>\u001b[0;34m()\u001b[0m\n\u001b[0;32m----> 1\u001b[0;31m \u001b[0mx\u001b[0m\u001b[0;34m[\u001b[0m\u001b[0;36m3\u001b[0m\u001b[0;34m:\u001b[0m\u001b[0;36m10\u001b[0m\u001b[0;34m]\u001b[0m \u001b[0;34m+=\u001b[0m \u001b[0mnp\u001b[0m\u001b[0;34m.\u001b[0m\u001b[0marange\u001b[0m\u001b[0;34m(\u001b[0m\u001b[0;36m7\u001b[0m\u001b[0;34m)\u001b[0m\u001b[0;34m\u001b[0m\u001b[0m\n\u001b[0m",
      "\u001b[0;31mValueError\u001b[0m: operands could not be broadcast together with shapes (2,) (7,) (2,) "
     ]
    }
   ],
   "source": [
    "x[3:10] += np.arange(7)"
   ]
  },
  {
   "cell_type": "code",
   "execution_count": 521,
   "metadata": {
    "ExecuteTime": {
     "end_time": "2019-02-18T23:29:53.142131Z",
     "start_time": "2019-02-18T23:29:53.134764Z"
    },
    "collapsed": true
   },
   "outputs": [],
   "source": [
    "ts = np.arange(44100/2) / 44100\n",
    "f = 500\n",
    "sine = np.sin(2 * np.pi * ts * f) * np.exp(-15 * ts)"
   ]
  },
  {
   "cell_type": "code",
   "execution_count": 522,
   "metadata": {
    "ExecuteTime": {
     "end_time": "2019-02-18T23:29:53.760890Z",
     "start_time": "2019-02-18T23:29:53.226430Z"
    }
   },
   "outputs": [
    {
     "data": {
      "text/plain": [
       "0"
      ]
     },
     "execution_count": 522,
     "metadata": {},
     "output_type": "execute_result"
    }
   ],
   "source": [
    "wavfile.write('temp/ding.wav', 44100, sine)\n",
    "os.system('play temp/ding.wav')"
   ]
  },
  {
   "cell_type": "code",
   "execution_count": 171,
   "metadata": {
    "ExecuteTime": {
     "end_time": "2019-02-18T06:14:40.318512Z",
     "start_time": "2019-02-18T06:14:40.315907Z"
    }
   },
   "outputs": [],
   "source": [
    "times = list(map(lambda x: x[0], sm.note_charts['Medium'].norm_notes))"
   ]
  },
  {
   "cell_type": "code",
   "execution_count": 172,
   "metadata": {
    "ExecuteTime": {
     "end_time": "2019-02-18T06:14:40.478694Z",
     "start_time": "2019-02-18T06:14:40.457408Z"
    },
    "collapsed": true
   },
   "outputs": [],
   "source": [
    "data = sm.wavdata.copy() / 32767"
   ]
  },
  {
   "cell_type": "code",
   "execution_count": 175,
   "metadata": {
    "ExecuteTime": {
     "end_time": "2019-02-18T06:14:47.718068Z",
     "start_time": "2019-02-18T06:14:47.705521Z"
    },
    "collapsed": true
   },
   "outputs": [],
   "source": [
    "for time in times:\n",
    "    sample_point = int(time * 44100)\n",
    "    data[sample_point:sample_point+44100] += sine"
   ]
  },
  {
   "cell_type": "code",
   "execution_count": 176,
   "metadata": {
    "ExecuteTime": {
     "end_time": "2019-02-18T06:14:48.251328Z",
     "start_time": "2019-02-18T06:14:48.219001Z"
    },
    "collapsed": true
   },
   "outputs": [],
   "source": [
    "wavfile.write('temp/alteration.wav', 44100, (32767 * data / np.max(data)).astype(np.int16))"
   ]
  },
  {
   "cell_type": "code",
   "execution_count": 10,
   "metadata": {
    "ExecuteTime": {
     "end_time": "2019-02-18T18:11:42.925072Z",
     "start_time": "2019-02-18T18:11:42.919791Z"
    }
   },
   "outputs": [],
   "source": [
    "ts = np.array([1.001, 1.004, 1.006, 1.010, 1.011])"
   ]
  },
  {
   "cell_type": "code",
   "execution_count": 13,
   "metadata": {
    "ExecuteTime": {
     "end_time": "2019-02-18T18:12:49.254436Z",
     "start_time": "2019-02-18T18:12:49.249349Z"
    }
   },
   "outputs": [
    {
     "data": {
      "text/plain": [
       "array([100, 100, 101, 101, 101])"
      ]
     },
     "execution_count": 13,
     "metadata": {},
     "output_type": "execute_result"
    }
   ],
   "source": [
    "(np.round(ts, 2) * 100).astype(int)"
   ]
  },
  {
   "cell_type": "code",
   "execution_count": 16,
   "metadata": {
    "ExecuteTime": {
     "end_time": "2019-02-18T18:37:23.038011Z",
     "start_time": "2019-02-18T18:37:22.838132Z"
    },
    "collapsed": true
   },
   "outputs": [],
   "source": [
    "from scipy import signal"
   ]
  },
  {
   "cell_type": "code",
   "execution_count": 21,
   "metadata": {
    "ExecuteTime": {
     "end_time": "2019-02-18T18:37:53.165152Z",
     "start_time": "2019-02-18T18:37:53.158418Z"
    }
   },
   "outputs": [
    {
     "data": {
      "text/plain": [
       "True"
      ]
     },
     "execution_count": 21,
     "metadata": {},
     "output_type": "execute_result"
    }
   ],
   "source": [
    "n = 1024 * 2**3\n",
    "signal.check_NOLA('hann', n, n-512)"
   ]
  },
  {
   "cell_type": "code",
   "execution_count": 22,
   "metadata": {
    "ExecuteTime": {
     "end_time": "2019-02-18T18:37:55.427266Z",
     "start_time": "2019-02-18T18:37:55.423078Z"
    }
   },
   "outputs": [
    {
     "data": {
      "text/plain": [
       "8192"
      ]
     },
     "execution_count": 22,
     "metadata": {},
     "output_type": "execute_result"
    }
   ],
   "source": [
    "n"
   ]
  },
  {
   "cell_type": "code",
   "execution_count": 23,
   "metadata": {
    "ExecuteTime": {
     "end_time": "2019-02-18T18:49:35.957623Z",
     "start_time": "2019-02-18T18:49:35.952918Z"
    }
   },
   "outputs": [
    {
     "data": {
      "text/plain": [
       "array([18, 22, 26])"
      ]
     },
     "execution_count": 23,
     "metadata": {},
     "output_type": "execute_result"
    }
   ],
   "source": [
    "np.arange(12).reshape((4, 3)).sum(0)"
   ]
  },
  {
   "cell_type": "code",
   "execution_count": 24,
   "metadata": {
    "ExecuteTime": {
     "end_time": "2019-02-18T18:51:51.199185Z",
     "start_time": "2019-02-18T18:51:51.188626Z"
    },
    "collapsed": true
   },
   "outputs": [],
   "source": [
    "ts = np.arange(44100) / 44100\n",
    "f = 500\n",
    "sine = np.sin(2 * np.pi * ts * f)"
   ]
  },
  {
   "cell_type": "code",
   "execution_count": 73,
   "metadata": {
    "ExecuteTime": {
     "end_time": "2019-02-18T19:04:59.590186Z",
     "start_time": "2019-02-18T19:04:59.585660Z"
    },
    "collapsed": true
   },
   "outputs": [],
   "source": [
    "import essentia.standard as es\n",
    "import essentia"
   ]
  },
  {
   "cell_type": "code",
   "execution_count": 302,
   "metadata": {
    "ExecuteTime": {
     "end_time": "2019-02-18T21:39:19.687707Z",
     "start_time": "2019-02-18T21:39:19.677043Z"
    }
   },
   "outputs": [],
   "source": [
    "n = 1024*4\n",
    "f, t, Zxx = signal.stft(sine, fs=44100, nperseg=n, noverlap=n-512, window='hamming')"
   ]
  },
  {
   "cell_type": "code",
   "execution_count": 303,
   "metadata": {
    "ExecuteTime": {
     "end_time": "2019-02-18T21:39:20.239136Z",
     "start_time": "2019-02-18T21:39:20.227912Z"
    },
    "collapsed": true
   },
   "outputs": [],
   "source": [
    "window = es.Windowing(size=n, type='hamming')\n",
    "fft = es.Spectrum(size=n)\n",
    "mel = es.MelBands(\n",
    "    inputSize=(n//2)+1, \n",
    "    sampleRate=44100, \n",
    "    numberBands=80, \n",
    "    lowFrequencyBound=27.5, \n",
    "    highFrequencyBound=16000.0)"
   ]
  },
  {
   "cell_type": "code",
   "execution_count": 304,
   "metadata": {
    "ExecuteTime": {
     "end_time": "2019-02-18T21:39:59.659256Z",
     "start_time": "2019-02-18T21:39:59.653960Z"
    },
    "collapsed": true
   },
   "outputs": [],
   "source": [
    "frame = next(es.FrameGenerator(essentia.array(sine), 1024*4, 512))\n",
    "mel_nopad = mel(fft(window(frame)))"
   ]
  },
  {
   "cell_type": "code",
   "execution_count": 155,
   "metadata": {
    "ExecuteTime": {
     "end_time": "2019-02-18T21:08:35.451661Z",
     "start_time": "2019-02-18T21:08:35.448352Z"
    }
   },
   "outputs": [],
   "source": [
    "fg = es.FrameGenerator(essentia.array(sine), 1024*2, 512)\n",
    "frame = next(fg)"
   ]
  },
  {
   "cell_type": "code",
   "execution_count": 161,
   "metadata": {
    "ExecuteTime": {
     "end_time": "2019-02-18T21:09:20.918670Z",
     "start_time": "2019-02-18T21:09:20.913937Z"
    }
   },
   "outputs": [
    {
     "data": {
      "text/plain": [
       "2048"
      ]
     },
     "execution_count": 161,
     "metadata": {},
     "output_type": "execute_result"
    }
   ],
   "source": [
    "frame.size"
   ]
  },
  {
   "cell_type": "code",
   "execution_count": 165,
   "metadata": {
    "ExecuteTime": {
     "end_time": "2019-02-18T21:10:07.288917Z",
     "start_time": "2019-02-18T21:10:07.283368Z"
    }
   },
   "outputs": [],
   "source": [
    "mel_fft = fft(window(frame))\n",
    "mel_pad = mel(essentia.array(np.r_[mel_fft, np.zeros(2048)]))"
   ]
  },
  {
   "cell_type": "code",
   "execution_count": 305,
   "metadata": {
    "ExecuteTime": {
     "end_time": "2019-02-18T21:40:03.256285Z",
     "start_time": "2019-02-18T21:40:03.166811Z"
    }
   },
   "outputs": [
    {
     "data": {
      "text/plain": [
       "[<matplotlib.lines.Line2D at 0x7fad048415f8>]"
      ]
     },
     "execution_count": 305,
     "metadata": {},
     "output_type": "execute_result"
    },
    {
     "data": {
      "image/png": "[encoded data removed]",
      "text/plain": [
       "<matplotlib.figure.Figure at 0x7fad048417b8>"
      ]
     },
     "metadata": {},
     "output_type": "display_data"
    }
   ],
   "source": [
    "plt.plot(mel_pad)\n",
    "plt.plot(mel_nopad)"
   ]
  },
  {
   "cell_type": "code",
   "execution_count": 166,
   "metadata": {
    "ExecuteTime": {
     "end_time": "2019-02-18T21:10:09.807612Z",
     "start_time": "2019-02-18T21:10:09.798894Z"
    }
   },
   "outputs": [
    {
     "data": {
      "text/plain": [
       "array([8.4911735e-04, 1.2709626e-03, 3.2522876e-03, 6.8666115e-02,\n",
       "       7.0200995e-02, 1.9935584e-03, 4.2674917e-04, 1.6650095e-04,\n",
       "       8.0120226e-05, 4.3318934e-05, 2.5550733e-05, 1.5927795e-05,\n",
       "       1.0336334e-05, 6.9248858e-06, 4.7909289e-06, 3.3834992e-06,\n",
       "       2.4362066e-06, 1.7818575e-06, 1.3246582e-06, 9.9633507e-07,\n",
       "       7.5850602e-07, 5.8391953e-07, 4.5347278e-07, 3.5550696e-07,\n",
       "       2.8084921e-07, 2.2361289e-07, 1.7951524e-07, 1.4492623e-07,\n",
       "       1.1789323e-07, 9.6392242e-08, 7.9449372e-08, 6.5695595e-08,\n",
       "       5.4757972e-08, 4.5812111e-08, 3.8657905e-08, 3.2646533e-08,\n",
       "       2.7785502e-08, 2.3769958e-08, 2.0431477e-08, 1.7657790e-08,\n",
       "       1.5319275e-08, 1.3379708e-08, 1.1739122e-08, 1.0347654e-08,\n",
       "       9.1575094e-09, 8.1583167e-09, 7.3017854e-09, 6.5611592e-09,\n",
       "       5.9394925e-09, 5.3912386e-09, 4.9344364e-09, 4.5322848e-09,\n",
       "       4.1882031e-09, 3.8978083e-09, 3.6465415e-09, 3.4384615e-09,\n",
       "       3.2605287e-09, 3.1183554e-09, 3.0053569e-09, 2.9251632e-09,\n",
       "       2.8712479e-09, 1.7725843e-09, 2.5869655e-11, 0.0000000e+00,\n",
       "       0.0000000e+00, 0.0000000e+00, 0.0000000e+00, 0.0000000e+00,\n",
       "       0.0000000e+00, 0.0000000e+00, 0.0000000e+00, 0.0000000e+00,\n",
       "       0.0000000e+00, 0.0000000e+00, 0.0000000e+00, 0.0000000e+00,\n",
       "       0.0000000e+00, 0.0000000e+00, 0.0000000e+00, 0.0000000e+00],\n",
       "      dtype=float32)"
      ]
     },
     "execution_count": 166,
     "metadata": {},
     "output_type": "execute_result"
    }
   ],
   "source": [
    "mel_pad"
   ]
  },
  {
   "cell_type": "code",
   "execution_count": 157,
   "metadata": {
    "ExecuteTime": {
     "end_time": "2019-02-18T21:08:44.777880Z",
     "start_time": "2019-02-18T21:08:44.774710Z"
    },
    "collapsed": true
   },
   "outputs": [],
   "source": [
    "mel_nopad = mel(fft(window(frame)))"
   ]
  },
  {
   "cell_type": "code",
   "execution_count": 158,
   "metadata": {
    "ExecuteTime": {
     "end_time": "2019-02-18T21:08:49.909238Z",
     "start_time": "2019-02-18T21:08:49.902611Z"
    }
   },
   "outputs": [
    {
     "data": {
      "text/plain": [
       "array([6.5751135e-04, 7.3480490e-04, 7.2843395e-04, 7.3655671e-04,\n",
       "       8.6413079e-04, 1.0065365e-03, 1.2121577e-03, 1.5125931e-03,\n",
       "       2.0875470e-03, 3.3569080e-03, 7.2321487e-03, 5.3100161e-02,\n",
       "       1.7793684e-01, 4.4215400e-02, 4.3868516e-03, 1.4797120e-03,\n",
       "       7.2048540e-04, 3.9762983e-04, 2.4292141e-04, 1.5304818e-04,\n",
       "       1.0470597e-04, 7.2459981e-05, 5.2144620e-05, 3.7606729e-05,\n",
       "       2.7939834e-05, 2.0989250e-05, 1.6003371e-05, 1.2308072e-05,\n",
       "       9.5551777e-06, 7.4338313e-06, 5.8680312e-06, 4.6575874e-06,\n",
       "       3.7150783e-06, 2.9816008e-06, 2.4117051e-06, 1.9449033e-06,\n",
       "       1.5841321e-06, 1.2934746e-06, 1.0607650e-06, 8.7140251e-07,\n",
       "       7.1978513e-07, 5.9607436e-07, 4.9487852e-07, 4.1290835e-07,\n",
       "       3.4465785e-07, 2.8887501e-07, 2.4285794e-07, 2.0479065e-07,\n",
       "       1.7286438e-07, 1.4670859e-07, 1.2441791e-07, 1.0590591e-07,\n",
       "       9.0488349e-08, 7.7401644e-08, 6.6570216e-08, 5.7175303e-08,\n",
       "       4.9347957e-08, 4.2681407e-08, 3.7084185e-08, 3.2216199e-08,\n",
       "       2.8141994e-08, 2.4638346e-08, 2.1581661e-08, 1.9037223e-08,\n",
       "       1.6813344e-08, 1.4874816e-08, 1.3234191e-08, 1.1786826e-08,\n",
       "       1.0563932e-08, 9.4652970e-09, 8.5227079e-09, 7.7142506e-09,\n",
       "       6.9878126e-09, 6.3743899e-09, 5.8171787e-09, 5.3450941e-09,\n",
       "       4.9234536e-09, 4.5557700e-09, 4.2422914e-09, 3.9605110e-09],\n",
       "      dtype=float32)"
      ]
     },
     "execution_count": 158,
     "metadata": {},
     "output_type": "execute_result"
    }
   ],
   "source": [
    "mel_nopad"
   ]
  },
  {
   "cell_type": "code",
   "execution_count": 119,
   "metadata": {
    "ExecuteTime": {
     "end_time": "2019-02-18T19:21:38.228120Z",
     "start_time": "2019-02-18T19:21:38.223511Z"
    }
   },
   "outputs": [
    {
     "name": "stderr",
     "output_type": "stream",
     "text": [
      "/usr/local/lib/python3.5/dist-packages/essentia/common.py:25: ComplexWarning: Casting complex values to real discards the imaginary part\n",
      "  return numpy.array(object, dtype='f4', **kwargs)\n"
     ]
    },
    {
     "data": {
      "text/plain": [
       "0.040395893"
      ]
     },
     "execution_count": 119,
     "metadata": {},
     "output_type": "execute_result"
    }
   ],
   "source": [
    "np.sum(mel(essentia.array(Zxx[:, 0])))"
   ]
  },
  {
   "cell_type": "code",
   "execution_count": 97,
   "metadata": {
    "ExecuteTime": {
     "end_time": "2019-02-18T19:12:29.653655Z",
     "start_time": "2019-02-18T19:12:28.575310Z"
    },
    "scrolled": true
   },
   "outputs": [
    {
     "name": "stderr",
     "output_type": "stream",
     "text": [
      "/usr/local/lib/python3.5/dist-packages/numba/errors.py:104: UserWarning: Insufficiently recent colorama version found. Numba requires colorama >= 0.3.9\n",
      "  warnings.warn(msg)\n"
     ]
    }
   ],
   "source": [
    "import librosa"
   ]
  },
  {
   "cell_type": "code",
   "execution_count": 104,
   "metadata": {
    "ExecuteTime": {
     "end_time": "2019-02-18T19:18:20.444097Z",
     "start_time": "2019-02-18T19:18:20.440646Z"
    },
    "collapsed": true
   },
   "outputs": [],
   "source": [
    "from librosa.core.spectrum import _spectrogram"
   ]
  },
  {
   "cell_type": "code",
   "execution_count": 296,
   "metadata": {
    "ExecuteTime": {
     "end_time": "2019-02-18T21:39:10.732536Z",
     "start_time": "2019-02-18T21:39:10.720812Z"
    },
    "collapsed": true
   },
   "outputs": [],
   "source": [
    "n = 1024*4\n",
    "f, t, Zxx = signal.stft(sine, fs=44100, nperseg=n, noverlap=n-512, window='hamming')"
   ]
  },
  {
   "cell_type": "code",
   "execution_count": 297,
   "metadata": {
    "ExecuteTime": {
     "end_time": "2019-02-18T21:39:10.871448Z",
     "start_time": "2019-02-18T21:39:10.865308Z"
    }
   },
   "outputs": [],
   "source": [
    "mel_op = librosa.filters.mel(44100, n, n_mels=80, fmin=27.5, fmax=16000.0)"
   ]
  },
  {
   "cell_type": "code",
   "execution_count": 298,
   "metadata": {
    "ExecuteTime": {
     "end_time": "2019-02-18T21:39:10.997515Z",
     "start_time": "2019-02-18T21:39:10.984805Z"
    },
    "collapsed": true
   },
   "outputs": [],
   "source": [
    "mel_spec = librosa.feature.melspectrogram(sine, 44100, n_fft=n, n_mels=80, fmin=27.5, fmax=16000.0)"
   ]
  },
  {
   "cell_type": "code",
   "execution_count": 299,
   "metadata": {
    "ExecuteTime": {
     "end_time": "2019-02-18T21:39:11.135097Z",
     "start_time": "2019-02-18T21:39:11.128465Z"
    }
   },
   "outputs": [],
   "source": [
    "meld = np.dot(mel_op, np.abs(Zxx)[:,0])"
   ]
  },
  {
   "cell_type": "code",
   "execution_count": 300,
   "metadata": {
    "ExecuteTime": {
     "end_time": "2019-02-18T21:39:11.249692Z",
     "start_time": "2019-02-18T21:39:11.246491Z"
    }
   },
   "outputs": [
    {
     "data": {
      "text/plain": [
       "(80, 87)"
      ]
     },
     "execution_count": 300,
     "metadata": {},
     "output_type": "execute_result"
    }
   ],
   "source": [
    "mel_spec.shape"
   ]
  },
  {
   "cell_type": "code",
   "execution_count": 306,
   "metadata": {
    "ExecuteTime": {
     "end_time": "2019-02-18T21:40:05.525423Z",
     "start_time": "2019-02-18T21:40:05.394369Z"
    }
   },
   "outputs": [
    {
     "data": {
      "text/plain": [
       "<matplotlib.legend.Legend at 0x7fad047d52e8>"
      ]
     },
     "execution_count": 306,
     "metadata": {},
     "output_type": "execute_result"
    },
    {
     "data": {
      "image/png": "[encoded data removed]",
      "text/plain": [
       "<matplotlib.figure.Figure at 0x7fad0481b7b8>"
      ]
     },
     "metadata": {},
     "output_type": "display_data"
    }
   ],
   "source": [
    "# plt.plot(mel_nopad)\n",
    "plt.plot(meld * 250000, label='librosa dot')\n",
    "plt.plot(mel_spec[:,0], label='librosa spec')\n",
    "plt.plot(mel_nopad * 20000, label='mel nopad')\n",
    "plt.plot(mel_pad * 20000, label='mel pad')\n",
    "plt.legend()"
   ]
  },
  {
   "cell_type": "code",
   "execution_count": null,
   "metadata": {
    "collapsed": true
   },
   "outputs": [],
   "source": []
  },
  {
   "cell_type": "code",
   "execution_count": 226,
   "metadata": {
    "ExecuteTime": {
     "end_time": "2019-02-18T21:23:22.904226Z",
     "start_time": "2019-02-18T21:23:22.891982Z"
    },
    "collapsed": true
   },
   "outputs": [],
   "source": [
    "n = 1024*4\n",
    "f, t, Zxx = signal.stft(sine, fs=44100, nperseg=n, noverlap=n-512, window='hamming', return_onesided=True)"
   ]
  },
  {
   "cell_type": "code",
   "execution_count": 436,
   "metadata": {
    "ExecuteTime": {
     "end_time": "2019-02-18T21:58:40.834960Z",
     "start_time": "2019-02-18T21:58:40.830706Z"
    },
    "collapsed": true
   },
   "outputs": [],
   "source": [
    "from python_speech_features.base import fbank, logfbank"
   ]
  },
  {
   "cell_type": "code",
   "execution_count": 440,
   "metadata": {
    "ExecuteTime": {
     "end_time": "2019-02-18T22:00:26.245562Z",
     "start_time": "2019-02-18T22:00:26.243353Z"
    },
    "collapsed": true
   },
   "outputs": [],
   "source": [
    "from python_speech_features.sigproc import framesig"
   ]
  },
  {
   "cell_type": "code",
   "execution_count": 513,
   "metadata": {
    "ExecuteTime": {
     "end_time": "2019-02-18T22:06:16.664786Z",
     "start_time": "2019-02-18T22:06:16.649640Z"
    },
    "scrolled": false
   },
   "outputs": [
    {
     "name": "stderr",
     "output_type": "stream",
     "text": [
      "WARNING:root:frame length (1103) is greater than FFT size (1024), frame will be truncated. Increase NFFT to avoid.\n"
     ]
    },
    {
     "name": "stdout",
     "output_type": "stream",
     "text": [
      "(87, 80)\n"
     ]
    }
   ],
   "source": [
    "# for i in range(100):\n",
    "ts = np.arange(512*87 +80) / 44100\n",
    "f = 500\n",
    "sine = np.sin(2 * np.pi * ts * f)\n",
    "psf = fbank(sine, samplerate=44100, nfilt=80, winfunc=np.hamming, lowfreq=27.5, highfreq=16000.0, winstep=512/44100, nfft=1024, preemph=0)\n",
    "psf_features, psf_energy = psf\n",
    "print(psf_features.shape)"
   ]
  },
  {
   "cell_type": "code",
   "execution_count": 505,
   "metadata": {
    "ExecuteTime": {
     "end_time": "2019-02-18T22:05:01.922183Z",
     "start_time": "2019-02-18T22:05:01.913484Z"
    }
   },
   "outputs": [
    {
     "name": "stderr",
     "output_type": "stream",
     "text": [
      "WARNING:root:frame length (1103) is greater than FFT size (1024), frame will be truncated. Increase NFFT to avoid.\n"
     ]
    }
   ],
   "source": []
  },
  {
   "cell_type": "code",
   "execution_count": 506,
   "metadata": {
    "ExecuteTime": {
     "end_time": "2019-02-18T22:05:02.108001Z",
     "start_time": "2019-02-18T22:05:02.105237Z"
    }
   },
   "outputs": [
    {
     "name": "stdout",
     "output_type": "stream",
     "text": [
      "(85, 80)\n"
     ]
    }
   ],
   "source": []
  },
  {
   "cell_type": "code",
   "execution_count": 507,
   "metadata": {
    "ExecuteTime": {
     "end_time": "2019-02-18T22:05:02.444886Z",
     "start_time": "2019-02-18T22:05:02.441999Z"
    }
   },
   "outputs": [
    {
     "data": {
      "text/plain": [
       "(85, 80)"
      ]
     },
     "execution_count": 507,
     "metadata": {},
     "output_type": "execute_result"
    }
   ],
   "source": [
    "psf_features.shape"
   ]
  },
  {
   "cell_type": "code",
   "execution_count": 435,
   "metadata": {
    "ExecuteTime": {
     "end_time": "2019-02-18T21:58:25.604611Z",
     "start_time": "2019-02-18T21:58:25.601770Z"
    },
    "scrolled": true
   },
   "outputs": [
    {
     "data": {
      "text/plain": [
       "44544"
      ]
     },
     "execution_count": 435,
     "metadata": {},
     "output_type": "execute_result"
    }
   ],
   "source": [
    "512*87"
   ]
  },
  {
   "cell_type": "code",
   "execution_count": 354,
   "metadata": {
    "ExecuteTime": {
     "end_time": "2019-02-18T21:50:58.720581Z",
     "start_time": "2019-02-18T21:50:58.604926Z"
    }
   },
   "outputs": [
    {
     "data": {
      "text/plain": [
       "<matplotlib.legend.Legend at 0x7fad04346eb8>"
      ]
     },
     "execution_count": 354,
     "metadata": {},
     "output_type": "execute_result"
    },
    {
     "data": {
      "image/png": "[encoded data removed]",
      "text/plain": [
       "<matplotlib.figure.Figure at 0x7fad0438dcf8>"
      ]
     },
     "metadata": {},
     "output_type": "display_data"
    }
   ],
   "source": [
    "plt.plot(mel_nopad, label='mel nopad')\n",
    "plt.plot(psf_f[0,:], label='psf')\n",
    "plt.legend()"
   ]
  },
  {
   "cell_type": "code",
   "execution_count": 367,
   "metadata": {
    "ExecuteTime": {
     "end_time": "2019-02-18T21:53:18.680425Z",
     "start_time": "2019-02-18T21:53:18.677350Z"
    }
   },
   "outputs": [
    {
     "data": {
      "text/plain": [
       "8.0"
      ]
     },
     "execution_count": 367,
     "metadata": {},
     "output_type": "execute_result"
    }
   ],
   "source": [
    "4096/512"
   ]
  },
  {
   "cell_type": "code",
   "execution_count": 542,
   "metadata": {
    "ExecuteTime": {
     "end_time": "2019-02-18T23:36:23.873008Z",
     "start_time": "2019-02-18T23:36:23.868026Z"
    }
   },
   "outputs": [
    {
     "data": {
      "text/plain": [
       "<module 'deepSM.wavutils' from '/home/lence/dev/deepStep/deepSM/wavutils.py'>"
      ]
     },
     "execution_count": 542,
     "metadata": {},
     "output_type": "execute_result"
    }
   ],
   "source": [
    "from deepSM import wavutils\n",
    "reload(wavutils)"
   ]
  },
  {
   "cell_type": "code",
   "execution_count": 540,
   "metadata": {
    "ExecuteTime": {
     "end_time": "2019-02-18T23:35:58.885168Z",
     "start_time": "2019-02-18T23:35:58.870900Z"
    },
    "collapsed": true
   },
   "outputs": [],
   "source": [
    "ts = np.arange(44100*4) / 44100\n",
    "f = 250\n",
    "sine = np.sin(2 * np.pi * ts * f)"
   ]
  },
  {
   "cell_type": "code",
   "execution_count": 541,
   "metadata": {
    "ExecuteTime": {
     "end_time": "2019-02-18T23:36:02.966812Z",
     "start_time": "2019-02-18T23:35:58.940534Z"
    }
   },
   "outputs": [],
   "source": [
    "wavutils.play_wav(sine)"
   ]
  },
  {
   "cell_type": "code",
   "execution_count": 564,
   "metadata": {
    "ExecuteTime": {
     "end_time": "2019-02-18T23:41:04.027557Z",
     "start_time": "2019-02-18T23:41:04.024071Z"
    }
   },
   "outputs": [
    {
     "data": {
      "text/plain": [
       "4.0"
      ]
     },
     "execution_count": 564,
     "metadata": {},
     "output_type": "execute_result"
    }
   ],
   "source": [
    "len(sine) / 44100"
   ]
  },
  {
   "cell_type": "code",
   "execution_count": 572,
   "metadata": {
    "ExecuteTime": {
     "end_time": "2019-02-18T23:42:41.198479Z",
     "start_time": "2019-02-18T23:42:37.168882Z"
    }
   },
   "outputs": [
    {
     "name": "stdout",
     "output_type": "stream",
     "text": [
      "176400\n",
      "22050\n",
      "22050\n",
      "22050\n",
      "22050\n",
      "22050\n",
      "22050\n",
      "11025\n"
     ]
    }
   ],
   "source": [
    "reload(wavutils)\n",
    "wavutils.test_alignment(sine, [0, 0.5, 1, 2, 3, 3.5, 3.75])"
   ]
  },
  {
   "cell_type": "code",
   "execution_count": 568,
   "metadata": {
    "ExecuteTime": {
     "end_time": "2019-02-18T23:41:46.375110Z",
     "start_time": "2019-02-18T23:41:46.371212Z"
    }
   },
   "outputs": [
    {
     "data": {
      "text/plain": [
       "3.5"
      ]
     },
     "execution_count": 568,
     "metadata": {},
     "output_type": "execute_result"
    }
   ],
   "source": [
    "154350/44100"
   ]
  }
 ],
 "metadata": {
  "kernelspec": {
   "display_name": "Python 3",
   "language": "python",
   "name": "python3"
  },
  "language_info": {
   "codemirror_mode": {
    "name": "ipython",
    "version": 3
   },
   "file_extension": ".py",
   "mimetype": "text/x-python",
   "name": "python",
   "nbconvert_exporter": "python",
   "pygments_lexer": "ipython3",
   "version": "3.5.2"
  }
 },
 "nbformat": 4,
 "nbformat_minor": 2
}
